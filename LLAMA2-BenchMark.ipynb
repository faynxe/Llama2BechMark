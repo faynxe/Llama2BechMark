{
 "cells": [
  {
   "cell_type": "markdown",
   "id": "d335922c-0ac8-4882-a031-823549693ad7",
   "metadata": {},
   "source": [
    "## META TGI"
   ]
  },
  {
   "cell_type": "code",
   "execution_count": null,
   "id": "6e3375e1-6e47-4674-be9b-18c9ba955f6a",
   "metadata": {
    "tags": []
   },
   "outputs": [],
   "source": [
    "# !pip install -U sagemaker transformers sentencepiece\n",
    "# !pip install torch torchvision torchaudio --index-url https://download.pytorch.org/whl/cpu"
   ]
  },
  {
   "cell_type": "code",
   "execution_count": 67,
   "id": "84c68ac6-d226-470f-ad3e-c9b9cc0775ee",
   "metadata": {
    "tags": []
   },
   "outputs": [
    {
     "name": "stdout",
     "output_type": "stream",
     "text": [
      "sagemaker.config INFO - Not applying SDK defaults from location: /etc/xdg/sagemaker/config.yaml\n",
      "sagemaker.config INFO - Not applying SDK defaults from location: /root/.config/sagemaker/config.yaml\n"
     ]
    }
   ],
   "source": [
    "import os\n",
    "import time\n",
    "from sagemaker.huggingface import get_huggingface_llm_image_uri\n",
    "import boto3\n",
    "import json\n",
    "from sagemaker.huggingface import HuggingFaceModel\n",
    "import argparse\n",
    "import yaml\n",
    "import sagemaker\n",
    "\n",
    "from botocore.config import Config\n",
    "config = Config(\n",
    "    read_timeout=120,\n",
    "    retries = dict(\n",
    "        max_attempts = 10 ## Handle retries\n",
    "    )\n",
    ")\n",
    "import boto3\n",
    "import concurrent.futures\n",
    "import time\n",
    "\n",
    "import pandas as pd\n",
    "import matplotlib.pyplot as plt\n",
    "import numpy as np\n",
    "sage=boto3.client(\"sagemaker-runtime\",config=config)\n",
    "sess=sagemaker.session.Session(sagemaker_runtime_client=sage)\n",
    "from sagemaker.predictor import Predictor\n",
    "from sagemaker.serializers import JSONSerializer\n",
    "from sagemaker.deserializers import JSONDeserializer\n",
    "from sagemaker.jumpstart.model import JumpStartModel\n",
    "from transformers import AutoTokenizer\n",
    "tokenizer = AutoTokenizer.from_pretrained('meta-llama/Llama-2-13b-chat-hf')"
   ]
  },
  {
   "cell_type": "code",
   "execution_count": 68,
   "id": "26d6f83d-0127-4d51-bc82-8854bc336c94",
   "metadata": {
    "tags": []
   },
   "outputs": [],
   "source": [
    "config_file=[{\"endpoint\":\"meta-llama/Llama-2-13b-chat-hf\",\n",
    "                     \"instance\":\"ml.g5.48xlarge\",\n",
    "           \"gpu\":8},\n",
    "           {\"endpoint\":\"meta-llama/Llama-2-13b-chat-hf\",\n",
    "                     \"instance\":\"ml.g5.12xlarge\",\n",
    "           \"gpu\":4},\n",
    "           {\"endpoint\":\"meta-llama/Llama-2-7b-chat-hf\",\n",
    "                     \"instance\":\"ml.g5.12xlarge\",\n",
    "           \"gpu\":4},\n",
    "           {\"endpoint\":\"meta-llama/Llama-2-7b-chat-hf\",\n",
    "                     \"instance\":\"ml.g5.2xlarge\",\n",
    "           \"gpu\":1},\n",
    "           {\"endpoint\":\"meta-llama/Llama-2-7b-chat-hf\",\n",
    "                     \"instance\":\"ml.g5.48xlarge\",\n",
    "           \"gpu\":8},\n",
    "           {\"endpoint\":\"meta-llama/Llama-2-70b-chat-hf\",\n",
    "                     \"instance\":\"ml.g5.48xlarge\",\n",
    "           \"gpu\":8}, \n",
    "            {\"endpoint\":\"huggingface-llm-mistral-7b-instruct\",\n",
    "                     \"instance\":\"ml.g5.12xlarge\",\n",
    "           \"gpu\":4}, \n",
    "             {\"endpoint\":\"huggingface-llm-mistral-7b-instruct\",\n",
    "                     \"instance\":\"ml.g5.2xlarge\",\n",
    "           \"gpu\":1}, \n",
    "           {\"endpoint\":\"LLama2-13-Bedrock\",}                    \n",
    "            ]"
   ]
  },
  {
   "cell_type": "code",
   "execution_count": null,
   "id": "48336937-896c-4618-92d6-4eeec1a9bbf2",
   "metadata": {
    "tags": []
   },
   "outputs": [],
   "source": [
    "## Deploy the llama2 models to sagemaker endpoint\n",
    "\n",
    "llm_image = get_huggingface_llm_image_uri(\"huggingface\", version=\"1.1.0\")\n",
    "    # TGI config\n",
    "for item in config_file:    \n",
    "    if not \"Bedrock\" in item[\"endpoint\"]:\n",
    "        if \"mistral\" in item[\"endpoint\"]: \n",
    "            config = {               \n",
    "                \"SM_NUM_GPUS\": json.dumps(item[\"gpu\"]), # Number of GPU used per replica              \n",
    "                \"MAX_CONCURRENT_REQUESTS\":\"1000\" # Ceiling for number of concurrent request\n",
    "            }\n",
    "            llm_model = JumpStartModel(model_id=item[\"endpoint\"], env=config)\n",
    "            \n",
    "        else:\n",
    "            config = {\n",
    "                \"HF_MODEL_ID\": item[\"endpoint\"],  # model_id from hf.co/models\n",
    "                \"SM_NUM_GPUS\": json.dumps(item[\"gpu\"]),  # Number of GPU used per replica\n",
    "                \"MAX_INPUT_LENGTH\": json.dumps(4094),  # Max length of input text\n",
    "                \"MAX_TOTAL_TOKENS\": json.dumps(4096),  # Max length of the generation (including input text)\n",
    "                \"HUGGING_FACE_HUB_TOKEN\": \"HF KEY\",\n",
    "                \"MAX_CONCURRENT_REQUESTS\":\"1000\" # Ceiling for number of concurrent request\n",
    "\n",
    "            }\n",
    "\n",
    "            llm_model = HuggingFaceModel(role=sagemaker.get_execution_role(), image_uri=llm_image, env=config)\n",
    "\n",
    "        llm = llm_model.deploy(\n",
    "                    initial_instance_count=1,\n",
    "                    instance_type=item[\"instance\"],\n",
    "                    container_startup_health_check_timeout=300,\n",
    "                        wait=False,\n",
    "                endpoint_name=f\"{item['endpoint'].split('/')[-1]}-{item['instance'].split('.')[-1]}\"\n",
    "                )"
   ]
  },
  {
   "cell_type": "code",
   "execution_count": null,
   "id": "12ee2a76-2685-440d-b596-a62096c6932e",
   "metadata": {
    "tags": []
   },
   "outputs": [],
   "source": [
    "import boto3\n",
    "sagemaker_client = boto3.client('sagemaker')\n",
    "\n",
    "def wait_for_endpoint(endpoint_name):\n",
    "    while True:\n",
    "        try:\n",
    "            response = sagemaker_client.describe_endpoint(EndpointName=endpoint_name)\n",
    "            status = response['EndpointStatus']\n",
    "            print(f\"Endpoint {endpoint_name} is {status}\")\n",
    "            if status == 'InService':\n",
    "                print(f\"Endpoint {endpoint_name} is successfully deployed.\")\n",
    "                break\n",
    "        except Exception as e:\n",
    "            print(f\"Error checking status for endpoint {endpoint_name}: {str(e)}\")\n",
    "        \n",
    "        time.sleep(30)  # Wait for 30 seconds before checking again\n",
    "\n",
    "# Wait for each endpoint to be in 'InService' state\n",
    "for item in config_file:  \n",
    "    if not \"Bedrock\" in item[\"endpoint\"]:\n",
    "        wait_for_endpoint(f\"{item['endpoint'].split('/')[-1]}-{item['instance'].split('.')[-1]}\")"
   ]
  },
  {
   "cell_type": "code",
   "execution_count": 74,
   "id": "a2a3b7e4-85a9-4f3c-84ba-8a855b5d9997",
   "metadata": {
    "tags": []
   },
   "outputs": [],
   "source": [
    "#Bedrock Runtime\n",
    "import boto3\n",
    "from botocore.config import Config\n",
    "config = Config(\n",
    "    read_timeout=120,\n",
    "    retries = dict(\n",
    "        max_attempts = 10 ## Handle retries\n",
    "    )\n",
    ")\n",
    "bedrock_runtime = boto3.client(service_name='bedrock-runtime',region_name='us-east-1',config=config)\n",
    "\n",
    "#Sagemaker runtime\n",
    "endpoint_name=f\"{config_file[0]['endpoint'].split('/')[-1]}-{config_file[0]['instance'].split('.')[-1]}\"\n",
    "predictor=Predictor(endpoint_name=endpoint_name,\n",
    "                    serializer=JSONSerializer(),                    \n",
    "                    deserializer=JSONDeserializer(),\n",
    "                            sagemaker_session=sess)\n"
   ]
  },
  {
   "cell_type": "code",
   "execution_count": 75,
   "id": "7d046edb-8848-436c-a1d4-be2f12d39936",
   "metadata": {
    "tags": []
   },
   "outputs": [
    {
     "name": "stdout",
     "output_type": "stream",
     "text": [
      "Length of prompt: 297\n"
     ]
    }
   ],
   "source": [
    "prompt=\"\"\"Generate a summary of the following:\n",
    "In the 25 years I’ve been at Amazon, there has been constant change, much of which we’ve initiated ourselves. When I joined Amazon in 1997, we had booked $15M in revenue in 1996, were a books-only retailer, did not have a third-party marketplace, and only shipped to addresses in the US. Today, Amazon sells nearly every physical and digital retail item you can imagine, with a vibrant third-party seller ecosystem that accounts for 60% of our unit sales, and reaches customers in virtually every country around the world. Similarly, building a business around a set of technology infrastructure services in the cloud was not obvious in 2003 when we started pursuing AWS, and still wasn’t when we launched our first services in 2006. Having virtually every book at your fingertips in 60 seconds, and then being able to store and retrieve them on a lightweight digital reader was not “a thing” yet when we launched Kindle in 2007, nor was a voice-driven personal assistant like Alexa (launched in 2014) that you could use to access entertainment, control your smart home, shop, and retrieve all sorts of information.\"\"\"\n",
    "\n",
    "## Token Length of Input promt\n",
    "tok=tokenizer.encode(prompt, return_tensors=\"pt\")[0]\n",
    "print(f\"Length of prompt: {len(tok)}\")\n"
   ]
  },
  {
   "cell_type": "markdown",
   "id": "28ade2d1-c687-4836-afb1-3eed843564b2",
   "metadata": {},
   "source": [
    "## Single call Latency check"
   ]
  },
  {
   "cell_type": "code",
   "execution_count": 76,
   "id": "fdbeb14f-08d4-4f96-9bfb-875283681688",
   "metadata": {
    "tags": []
   },
   "outputs": [
    {
     "name": "stdout",
     "output_type": "stream",
     "text": [
      "CPU times: user 13.6 ms, sys: 0 ns, total: 13.6 ms\n",
      "Wall time: 2.22 s\n"
     ]
    },
    {
     "data": {
      "text/plain": [
       "[{'generated_text': '\\n\\nHere is a summary of the provided text:\\n\\nIn the past 25 years, Amazon has undergone significant changes, including expanding from a books-only retailer to selling a wide range of physical and digital items, developing a third-party seller ecosystem, and launching new technologies such as AWS, Kindle, and Alexa. These changes have allowed Amazon to reach customers in virtually every country and provide a wide range of services'}]"
      ]
     },
     "execution_count": 76,
     "metadata": {},
     "output_type": "execute_result"
    }
   ],
   "source": [
    "%%time\n",
    "response=predictor.predict({\"inputs\": prompt,\n",
    "                      \"parameters\": {\n",
    "            \"max_new_tokens\": 100,\n",
    "            # \"top_p\": 0.9,\n",
    "            # \"temperature\": 0.6,\n",
    "            \"return_full_text\": False,\n",
    "        }})\n",
    "response"
   ]
  },
  {
   "cell_type": "code",
   "execution_count": 77,
   "id": "ecfb9866-83f7-4150-a5b7-fce54c30ddc4",
   "metadata": {
    "tags": []
   },
   "outputs": [
    {
     "name": "stdout",
     "output_type": "stream",
     "text": [
      "CPU times: user 12.4 ms, sys: 0 ns, total: 12.4 ms\n",
      "Wall time: 2.91 s\n"
     ]
    }
   ],
   "source": [
    "%%time\n",
    "\n",
    "prompt_template={\n",
    "  \"prompt\": prompt,\n",
    "    \"max_gen_len\": 100,\n",
    "    # \"temperature\": 0.2,\n",
    "    # \"top_p\": 0.9\n",
    "}\n",
    "prompt_template=json.dumps(prompt_template)\n",
    "\n",
    "output = bedrock_runtime.invoke_model(body=prompt_template,\n",
    "                                modelId=\"meta.llama2-13b-chat-v1\",  #Change model ID to a diffent anthropic model id\n",
    "                                accept=\"application/json\", \n",
    "                                contentType=\"application/json\")\n",
    "\n",
    "output=output['body'].read().decode()\n",
    "response=json.loads(output)['generation']"
   ]
  },
  {
   "cell_type": "markdown",
   "id": "b77050e2-f230-4443-a0c9-acda4d775179",
   "metadata": {
    "tags": []
   },
   "source": [
    "### Concurrent Call Latency and Throughput Capture"
   ]
  },
  {
   "cell_type": "markdown",
   "id": "bb6f8cca-31cb-40b2-ab47-811d6ddc7251",
   "metadata": {},
   "source": [
    "**Note!** that SageMaker Realtime endpoints have a non-adjustable inference timeout of 60s. This would determine the maximum number of concurrent calls a model endpoint can handle. \n",
    "You may run into a \"timeout\" error if your inference is taking longer than 60s to complete."
   ]
  },
  {
   "cell_type": "code",
   "execution_count": 78,
   "id": "e6943559-d64d-49d1-9c3f-53899065d1c4",
   "metadata": {
    "tags": []
   },
   "outputs": [],
   "source": [
    "# Define the number of parallel requests you want to send\n",
    "num_parallel_requests = 10\n",
    "# Max Output Token\n",
    "output_token_limit=100\n",
    "\n",
    "all_results={}\n",
    "\n",
    "for item in config_file:\n",
    "    if \"Bedrock\" in item[\"endpoint\"]:\n",
    "        # Function to send a single request to the Bedrock endpoint\n",
    "        bedrock_runtime = boto3.client(service_name='bedrock-runtime',region_name='us-east-1',config=config)\n",
    "    \n",
    "        prompt_template={\n",
    "          \"prompt\": prompt,\n",
    "            \"max_gen_len\": output_token_limit,\n",
    "            # \"temperature\": 0.2,\n",
    "            # \"top_p\": 0.9\n",
    "        }\n",
    "        payload=json.dumps(prompt_template)\n",
    "        endpoint_name=item[\"endpoint\"]\n",
    "        def send_request(payload):\n",
    "            #Capture time to complete each request to the endpoint\n",
    "            time_now=time.time()\n",
    "            output = bedrock_runtime.invoke_model(body=payload,\n",
    "                                        modelId=\"meta.llama2-13b-chat-v1\",  \n",
    "                                        accept=\"application/json\", \n",
    "                                        contentType=\"application/json\")\n",
    "            time_later=time.time()\n",
    "            diff=time_later-time_now            \n",
    "            return diff\n",
    "    else:\n",
    "        # Function to send a single request to the SageMaker endpoint\n",
    "        payload=prompt\n",
    "        endpoint_name=f\"{item['endpoint'].split('/')[-1]}-{item['instance'].split('.')[-1]}\"\n",
    "        predictor=Predictor(endpoint_name,\n",
    "                    serializer=JSONSerializer(),                    \n",
    "                    deserializer=JSONDeserializer(),\n",
    "                            sagemaker_session=sess)\n",
    "        \n",
    "        def send_request(payload):\n",
    "            #Capture time to complete each request to the endpoint\n",
    "            time_now=time.time()\n",
    "            response=predictor.predict({\"inputs\": payload,\n",
    "                              \"parameters\": {\n",
    "                    \"max_new_tokens\": output_token_limit,\n",
    "                    # \"top_p\": 0.9,\n",
    "                    # \"temperature\": 0.6,\n",
    "                    \"return_full_text\": False,\n",
    "                }})\n",
    "            time_later=time.time()\n",
    "            diff=time_later-time_now\n",
    "            return diff\n",
    "        \n",
    "    # Create a ThreadPoolExecutor for parallel execution\n",
    "    with concurrent.futures.ThreadPoolExecutor(max_workers=num_parallel_requests) as executor:\n",
    "        # Submit parallel requests\n",
    "        futures = [executor.submit(send_request, payload) for _ in range(num_parallel_requests)]\n",
    "        # Wait for all  requests to complete\n",
    "        concurrent.futures.wait(futures)\n",
    "        # Get the results from completed requests\n",
    "        results = [future.result() for future in futures]\n",
    "        \n",
    "        time.sleep(1)\n",
    "    all_results[endpoint_name]=results #Collect all results metrics"
   ]
  },
  {
   "cell_type": "code",
   "execution_count": 79,
   "id": "42c0c0b3-fe83-4712-8ba6-c914a8665662",
   "metadata": {
    "tags": []
   },
   "outputs": [],
   "source": [
    "# Calculate required Metrics\n",
    "result_config={}\n",
    "latency=[]\n",
    "throughput=[]\n",
    "request_latency=[]\n",
    "model_names=[]\n",
    "\n",
    "for item in config_file:\n",
    "    if \"Bedrock\" in item['endpoint']:\n",
    "        model_name=item['endpoint']\n",
    "    else:\n",
    "        model_name=f\"{item['endpoint'].split('/')[-1]}-{item['instance'].split('.')[-1]}\"\n",
    "    request_latency.append(np.mean(all_results[model_name])) ## Average Latency for concurrent calls to the endpoint\n",
    "    throughput.append(output_token_limit*num_parallel_requests/np.mean(all_results[model_name])) ## throughput (sum of concurrent tokens generated/avg time for concurrent calls)\n",
    "    latency.append(np.mean(all_results[model_name])/(output_token_limit*num_parallel_requests)) ## throughput (avg time for concurrent calls/sum of concurrent tokens generated)\n",
    "    model_names.append(f\"LLama2-{model_name}\")"
   ]
  },
  {
   "cell_type": "code",
   "execution_count": 80,
   "id": "d8b53079-71ba-4e4d-9226-7d3eeb868421",
   "metadata": {
    "tags": []
   },
   "outputs": [
    {
     "data": {
      "text/html": [
       "<div>\n",
       "<style scoped>\n",
       "    .dataframe tbody tr th:only-of-type {\n",
       "        vertical-align: middle;\n",
       "    }\n",
       "\n",
       "    .dataframe tbody tr th {\n",
       "        vertical-align: top;\n",
       "    }\n",
       "\n",
       "    .dataframe thead th {\n",
       "        text-align: right;\n",
       "    }\n",
       "</style>\n",
       "<table border=\"1\" class=\"dataframe\">\n",
       "  <thead>\n",
       "    <tr style=\"text-align: right;\">\n",
       "      <th></th>\n",
       "      <th>model</th>\n",
       "      <th>latency (s/token)</th>\n",
       "      <th>throughput (tokens/s)</th>\n",
       "      <th>Average Request Latency (s)</th>\n",
       "      <th>Concurrent Calls</th>\n",
       "    </tr>\n",
       "  </thead>\n",
       "  <tbody>\n",
       "    <tr>\n",
       "      <th>0</th>\n",
       "      <td>LLama2-Llama-2-13b-chat-hf-48xlarge</td>\n",
       "      <td>0.005063</td>\n",
       "      <td>197.516057</td>\n",
       "      <td>5.062880</td>\n",
       "      <td>10</td>\n",
       "    </tr>\n",
       "    <tr>\n",
       "      <th>1</th>\n",
       "      <td>LLama2-Llama-2-13b-chat-hf-12xlarge</td>\n",
       "      <td>0.004077</td>\n",
       "      <td>245.250477</td>\n",
       "      <td>4.077464</td>\n",
       "      <td>10</td>\n",
       "    </tr>\n",
       "    <tr>\n",
       "      <th>2</th>\n",
       "      <td>LLama2-Llama-2-7b-chat-hf-12xlarge</td>\n",
       "      <td>0.002184</td>\n",
       "      <td>457.885532</td>\n",
       "      <td>2.183952</td>\n",
       "      <td>10</td>\n",
       "    </tr>\n",
       "    <tr>\n",
       "      <th>3</th>\n",
       "      <td>LLama2-Llama-2-7b-chat-hf-2xlarge</td>\n",
       "      <td>0.004050</td>\n",
       "      <td>246.940198</td>\n",
       "      <td>4.049563</td>\n",
       "      <td>10</td>\n",
       "    </tr>\n",
       "    <tr>\n",
       "      <th>4</th>\n",
       "      <td>LLama2-Llama-2-7b-chat-hf-48xlarge</td>\n",
       "      <td>0.002981</td>\n",
       "      <td>335.403459</td>\n",
       "      <td>2.981484</td>\n",
       "      <td>10</td>\n",
       "    </tr>\n",
       "    <tr>\n",
       "      <th>5</th>\n",
       "      <td>LLama2-Llama-2-70b-chat-hf-48xlarge</td>\n",
       "      <td>0.015643</td>\n",
       "      <td>63.927238</td>\n",
       "      <td>15.642784</td>\n",
       "      <td>10</td>\n",
       "    </tr>\n",
       "    <tr>\n",
       "      <th>6</th>\n",
       "      <td>LLama2-huggingface-llm-mistral-7b-instruct-12x...</td>\n",
       "      <td>0.002409</td>\n",
       "      <td>415.045285</td>\n",
       "      <td>2.409376</td>\n",
       "      <td>10</td>\n",
       "    </tr>\n",
       "    <tr>\n",
       "      <th>7</th>\n",
       "      <td>LLama2-huggingface-llm-mistral-7b-instruct-2xl...</td>\n",
       "      <td>0.004294</td>\n",
       "      <td>232.865391</td>\n",
       "      <td>4.294326</td>\n",
       "      <td>10</td>\n",
       "    </tr>\n",
       "    <tr>\n",
       "      <th>8</th>\n",
       "      <td>LLama2-LLama2-13-Bedrock</td>\n",
       "      <td>0.002945</td>\n",
       "      <td>339.593332</td>\n",
       "      <td>2.944699</td>\n",
       "      <td>10</td>\n",
       "    </tr>\n",
       "  </tbody>\n",
       "</table>\n",
       "</div>"
      ],
      "text/plain": [
       "                                               model  latency (s/token)  \\\n",
       "0                LLama2-Llama-2-13b-chat-hf-48xlarge           0.005063   \n",
       "1                LLama2-Llama-2-13b-chat-hf-12xlarge           0.004077   \n",
       "2                 LLama2-Llama-2-7b-chat-hf-12xlarge           0.002184   \n",
       "3                  LLama2-Llama-2-7b-chat-hf-2xlarge           0.004050   \n",
       "4                 LLama2-Llama-2-7b-chat-hf-48xlarge           0.002981   \n",
       "5                LLama2-Llama-2-70b-chat-hf-48xlarge           0.015643   \n",
       "6  LLama2-huggingface-llm-mistral-7b-instruct-12x...           0.002409   \n",
       "7  LLama2-huggingface-llm-mistral-7b-instruct-2xl...           0.004294   \n",
       "8                           LLama2-LLama2-13-Bedrock           0.002945   \n",
       "\n",
       "   throughput (tokens/s)  Average Request Latency (s)  Concurrent Calls  \n",
       "0             197.516057                     5.062880                10  \n",
       "1             245.250477                     4.077464                10  \n",
       "2             457.885532                     2.183952                10  \n",
       "3             246.940198                     4.049563                10  \n",
       "4             335.403459                     2.981484                10  \n",
       "5              63.927238                    15.642784                10  \n",
       "6             415.045285                     2.409376                10  \n",
       "7             232.865391                     4.294326                10  \n",
       "8             339.593332                     2.944699                10  "
      ]
     },
     "execution_count": 80,
     "metadata": {},
     "output_type": "execute_result"
    }
   ],
   "source": [
    "## DataFrame of Metrics \n",
    "df=pd.DataFrame({\"model\":model_names, \"latency (s/token)\":latency, \"throughput (tokens/s)\":throughput, \n",
    "              \"Average Request Latency (s)\":request_latency, \"Concurrent Calls\":[num_parallel_requests] * len(model_names)})\n",
    "df"
   ]
  },
  {
   "cell_type": "code",
   "execution_count": 81,
   "id": "56910715-530f-4d02-a09e-a5e8bc7b4a5c",
   "metadata": {
    "tags": []
   },
   "outputs": [
    {
     "data": {
      "image/png": "[encoded data removed]",
      "text/plain": [
       "<Figure size 1000x600 with 1 Axes>"
      ]
     },
     "metadata": {},
     "output_type": "display_data"
    }
   ],
   "source": [
    "# Plotting the DataFrame\n",
    "fig, ax = plt.subplots(figsize=(10, 6))\n",
    "\n",
    "# Bar plot for each model\n",
    "df.plot(kind='bar', x='model', y=['latency (s/token)', 'throughput (tokens/s)', 'Average Request Latency (s)'], ax=ax)\n",
    "\n",
    "# Adding labels and title\n",
    "ax.set_ylabel('Values')\n",
    "ax.set_xlabel('Models')\n",
    "plt.title(f'Performance Metrics for Different Models at {num_parallel_requests} Concurrent Request')\n",
    "\n",
    "# Show the plot\n",
    "plt.show()"
   ]
  },
  {
   "cell_type": "code",
   "execution_count": 82,
   "id": "b240e579-d294-45b5-a756-77119baa4920",
   "metadata": {
    "tags": []
   },
   "outputs": [
    {
     "data": {
      "image/png": "[encoded data removed]",
      "text/plain": [
       "<Figure size 1000x600 with 1 Axes>"
      ]
     },
     "metadata": {},
     "output_type": "display_data"
    }
   ],
   "source": [
    "fig, ax = plt.subplots(figsize=(10, 6))\n",
    "\n",
    "for model, values in all_results.items():\n",
    "    plt.plot(values, label=model)\n",
    "\n",
    "# Set plot labels and title\n",
    "plt.xlabel('Iteration')\n",
    "plt.ylabel('Latency (s)')\n",
    "plt.title('Latency Comparison for Different Models')\n",
    "\n",
    "# Add legend outside the plot area\n",
    "plt.legend(bbox_to_anchor=(1.05, 1), loc='upper left', borderaxespad=0.)\n",
    "\n",
    "# Adjust layout to make space for the legend\n",
    "plt.tight_layout()\n",
    "\n",
    "# Show the plot\n",
    "plt.show()"
   ]
  },
  {
   "cell_type": "markdown",
   "id": "ad491060-3822-4c3b-af56-c455755f482b",
   "metadata": {},
   "source": [
    "## Delete Endpoint"
   ]
  },
  {
   "cell_type": "code",
   "execution_count": null,
   "id": "49ef34c9-cb19-468e-b83d-0eafec5edbb7",
   "metadata": {
    "tags": []
   },
   "outputs": [],
   "source": [
    "import boto3\n",
    "\n",
    "def delete_endpoint(endpoint_name):\n",
    "    sm_client = boto3.client('sagemaker')\n",
    "    try:\n",
    "        # Get the endpoint configuration name first\n",
    "        response = sm_client.describe_endpoint(EndpointName=endpoint_name)\n",
    "        endpoint_config_name = response['EndpointConfigName']\n",
    "\n",
    "        # Delete the endpoint\n",
    "        sm_client.delete_endpoint(EndpointName=endpoint_name)\n",
    "        print(f\"Endpoint {endpoint_name} deleted successfully.\")\n",
    "\n",
    "        # Delete the endpoint configuration\n",
    "        sm_client.delete_endpoint_config(EndpointConfigName=endpoint_config_name)\n",
    "        print(f\"Endpoint configuration {endpoint_config_name} deleted successfully.\")\n",
    "    except Exception as e:\n",
    "        print(f\"Error deleting endpoint {endpoint_name} and its configuration: {str(e)}\")\n",
    "\n",
    "# Assuming 'config_file' is a list of dictionaries with 'endpoint' and 'instance' keys\n",
    "for item in config_file:\n",
    "    if \"Bedrock\" not in item['endpoint']:\n",
    "        endpoint_name = f\"{item['endpoint'].split('/')[-1]}-{item['instance'].split('.')[-1]}\"\n",
    "        delete_endpoint(endpoint_name)\n"
   ]
  }
 ],
 "metadata": {
  "availableInstances": [
   {
    "_defaultOrder": 0,
    "_isFastLaunch": true,
    "category": "General purpose",
    "gpuNum": 0,
    "hideHardwareSpecs": false,
    "memoryGiB": 4,
    "name": "ml.t3.medium",
    "vcpuNum": 2
   },
   {
    "_defaultOrder": 1,
    "_isFastLaunch": false,
    "category": "General purpose",
    "gpuNum": 0,
    "hideHardwareSpecs": false,
    "memoryGiB": 8,
    "name": "ml.t3.large",
    "vcpuNum": 2
   },
   {
    "_defaultOrder": 2,
    "_isFastLaunch": false,
    "category": "General purpose",
    "gpuNum": 0,
    "hideHardwareSpecs": false,
    "memoryGiB": 16,
    "name": "ml.t3.xlarge",
    "vcpuNum": 4
   },
   {
    "_defaultOrder": 3,
    "_isFastLaunch": false,
    "category": "General purpose",
    "gpuNum": 0,
    "hideHardwareSpecs": false,
    "memoryGiB": 32,
    "name": "ml.t3.2xlarge",
    "vcpuNum": 8
   },
   {
    "_defaultOrder": 4,
    "_isFastLaunch": true,
    "category": "General purpose",
    "gpuNum": 0,
    "hideHardwareSpecs": false,
    "memoryGiB": 8,
    "name": "ml.m5.large",
    "vcpuNum": 2
   },
   {
    "_defaultOrder": 5,
    "_isFastLaunch": false,
    "category": "General purpose",
    "gpuNum": 0,
    "hideHardwareSpecs": false,
    "memoryGiB": 16,
    "name": "ml.m5.xlarge",
    "vcpuNum": 4
   },
   {
    "_defaultOrder": 6,
    "_isFastLaunch": false,
    "category": "General purpose",
    "gpuNum": 0,
    "hideHardwareSpecs": false,
    "memoryGiB": 32,
    "name": "ml.m5.2xlarge",
    "vcpuNum": 8
   },
   {
    "_defaultOrder": 7,
    "_isFastLaunch": false,
    "category": "General purpose",
    "gpuNum": 0,
    "hideHardwareSpecs": false,
    "memoryGiB": 64,
    "name": "ml.m5.4xlarge",
    "vcpuNum": 16
   },
   {
    "_defaultOrder": 8,
    "_isFastLaunch": false,
    "category": "General purpose",
    "gpuNum": 0,
    "hideHardwareSpecs": false,
    "memoryGiB": 128,
    "name": "ml.m5.8xlarge",
    "vcpuNum": 32
   },
   {
    "_defaultOrder": 9,
    "_isFastLaunch": false,
    "category": "General purpose",
    "gpuNum": 0,
    "hideHardwareSpecs": false,
    "memoryGiB": 192,
    "name": "ml.m5.12xlarge",
    "vcpuNum": 48
   },
   {
    "_defaultOrder": 10,
    "_isFastLaunch": false,
    "category": "General purpose",
    "gpuNum": 0,
    "hideHardwareSpecs": false,
    "memoryGiB": 256,
    "name": "ml.m5.16xlarge",
    "vcpuNum": 64
   },
   {
    "_defaultOrder": 11,
    "_isFastLaunch": false,
    "category": "General purpose",
    "gpuNum": 0,
    "hideHardwareSpecs": false,
    "memoryGiB": 384,
    "name": "ml.m5.24xlarge",
    "vcpuNum": 96
   },
   {
    "_defaultOrder": 12,
    "_isFastLaunch": false,
    "category": "General purpose",
    "gpuNum": 0,
    "hideHardwareSpecs": false,
    "memoryGiB": 8,
    "name": "ml.m5d.large",
    "vcpuNum": 2
   },
   {
    "_defaultOrder": 13,
    "_isFastLaunch": false,
    "category": "General purpose",
    "gpuNum": 0,
    "hideHardwareSpecs": false,
    "memoryGiB": 16,
    "name": "ml.m5d.xlarge",
    "vcpuNum": 4
   },
   {
    "_defaultOrder": 14,
    "_isFastLaunch": false,
    "category": "General purpose",
    "gpuNum": 0,
    "hideHardwareSpecs": false,
    "memoryGiB": 32,
    "name": "ml.m5d.2xlarge",
    "vcpuNum": 8
   },
   {
    "_defaultOrder": 15,
    "_isFastLaunch": false,
    "category": "General purpose",
    "gpuNum": 0,
    "hideHardwareSpecs": false,
    "memoryGiB": 64,
    "name": "ml.m5d.4xlarge",
    "vcpuNum": 16
   },
   {
    "_defaultOrder": 16,
    "_isFastLaunch": false,
    "category": "General purpose",
    "gpuNum": 0,
    "hideHardwareSpecs": false,
    "memoryGiB": 128,
    "name": "ml.m5d.8xlarge",
    "vcpuNum": 32
   },
   {
    "_defaultOrder": 17,
    "_isFastLaunch": false,
    "category": "General purpose",
    "gpuNum": 0,
    "hideHardwareSpecs": false,
    "memoryGiB": 192,
    "name": "ml.m5d.12xlarge",
    "vcpuNum": 48
   },
   {
    "_defaultOrder": 18,
    "_isFastLaunch": false,
    "category": "General purpose",
    "gpuNum": 0,
    "hideHardwareSpecs": false,
    "memoryGiB": 256,
    "name": "ml.m5d.16xlarge",
    "vcpuNum": 64
   },
   {
    "_defaultOrder": 19,
    "_isFastLaunch": false,
    "category": "General purpose",
    "gpuNum": 0,
    "hideHardwareSpecs": false,
    "memoryGiB": 384,
    "name": "ml.m5d.24xlarge",
    "vcpuNum": 96
   },
   {
    "_defaultOrder": 20,
    "_isFastLaunch": false,
    "category": "General purpose",
    "gpuNum": 0,
    "hideHardwareSpecs": true,
    "memoryGiB": 0,
    "name": "ml.geospatial.interactive",
    "supportedImageNames": [
     "sagemaker-geospatial-v1-0"
    ],
    "vcpuNum": 0
   },
   {
    "_defaultOrder": 21,
    "_isFastLaunch": true,
    "category": "Compute optimized",
    "gpuNum": 0,
    "hideHardwareSpecs": false,
    "memoryGiB": 4,
    "name": "ml.c5.large",
    "vcpuNum": 2
   },
   {
    "_defaultOrder": 22,
    "_isFastLaunch": false,
    "category": "Compute optimized",
    "gpuNum": 0,
    "hideHardwareSpecs": false,
    "memoryGiB": 8,
    "name": "ml.c5.xlarge",
    "vcpuNum": 4
   },
   {
    "_defaultOrder": 23,
    "_isFastLaunch": false,
    "category": "Compute optimized",
    "gpuNum": 0,
    "hideHardwareSpecs": false,
    "memoryGiB": 16,
    "name": "ml.c5.2xlarge",
    "vcpuNum": 8
   },
   {
    "_defaultOrder": 24,
    "_isFastLaunch": false,
    "category": "Compute optimized",
    "gpuNum": 0,
    "hideHardwareSpecs": false,
    "memoryGiB": 32,
    "name": "ml.c5.4xlarge",
    "vcpuNum": 16
   },
   {
    "_defaultOrder": 25,
    "_isFastLaunch": false,
    "category": "Compute optimized",
    "gpuNum": 0,
    "hideHardwareSpecs": false,
    "memoryGiB": 72,
    "name": "ml.c5.9xlarge",
    "vcpuNum": 36
   },
   {
    "_defaultOrder": 26,
    "_isFastLaunch": false,
    "category": "Compute optimized",
    "gpuNum": 0,
    "hideHardwareSpecs": false,
    "memoryGiB": 96,
    "name": "ml.c5.12xlarge",
    "vcpuNum": 48
   },
   {
    "_defaultOrder": 27,
    "_isFastLaunch": false,
    "category": "Compute optimized",
    "gpuNum": 0,
    "hideHardwareSpecs": false,
    "memoryGiB": 144,
    "name": "ml.c5.18xlarge",
    "vcpuNum": 72
   },
   {
    "_defaultOrder": 28,
    "_isFastLaunch": false,
    "category": "Compute optimized",
    "gpuNum": 0,
    "hideHardwareSpecs": false,
    "memoryGiB": 192,
    "name": "ml.c5.24xlarge",
    "vcpuNum": 96
   },
   {
    "_defaultOrder": 29,
    "_isFastLaunch": true,
    "category": "Accelerated computing",
    "gpuNum": 1,
    "hideHardwareSpecs": false,
    "memoryGiB": 16,
    "name": "ml.g4dn.xlarge",
    "vcpuNum": 4
   },
   {
    "_defaultOrder": 30,
    "_isFastLaunch": false,
    "category": "Accelerated computing",
    "gpuNum": 1,
    "hideHardwareSpecs": false,
    "memoryGiB": 32,
    "name": "ml.g4dn.2xlarge",
    "vcpuNum": 8
   },
   {
    "_defaultOrder": 31,
    "_isFastLaunch": false,
    "category": "Accelerated computing",
    "gpuNum": 1,
    "hideHardwareSpecs": false,
    "memoryGiB": 64,
    "name": "ml.g4dn.4xlarge",
    "vcpuNum": 16
   },
   {
    "_defaultOrder": 32,
    "_isFastLaunch": false,
    "category": "Accelerated computing",
    "gpuNum": 1,
    "hideHardwareSpecs": false,
    "memoryGiB": 128,
    "name": "ml.g4dn.8xlarge",
    "vcpuNum": 32
   },
   {
    "_defaultOrder": 33,
    "_isFastLaunch": false,
    "category": "Accelerated computing",
    "gpuNum": 4,
    "hideHardwareSpecs": false,
    "memoryGiB": 192,
    "name": "ml.g4dn.12xlarge",
    "vcpuNum": 48
   },
   {
    "_defaultOrder": 34,
    "_isFastLaunch": false,
    "category": "Accelerated computing",
    "gpuNum": 1,
    "hideHardwareSpecs": false,
    "memoryGiB": 256,
    "name": "ml.g4dn.16xlarge",
    "vcpuNum": 64
   },
   {
    "_defaultOrder": 35,
    "_isFastLaunch": false,
    "category": "Accelerated computing",
    "gpuNum": 1,
    "hideHardwareSpecs": false,
    "memoryGiB": 61,
    "name": "ml.p3.2xlarge",
    "vcpuNum": 8
   },
   {
    "_defaultOrder": 36,
    "_isFastLaunch": false,
    "category": "Accelerated computing",
    "gpuNum": 4,
    "hideHardwareSpecs": false,
    "memoryGiB": 244,
    "name": "ml.p3.8xlarge",
    "vcpuNum": 32
   },
   {
    "_defaultOrder": 37,
    "_isFastLaunch": false,
    "category": "Accelerated computing",
    "gpuNum": 8,
    "hideHardwareSpecs": false,
    "memoryGiB": 488,
    "name": "ml.p3.16xlarge",
    "vcpuNum": 64
   },
   {
    "_defaultOrder": 38,
    "_isFastLaunch": false,
    "category": "Accelerated computing",
    "gpuNum": 8,
    "hideHardwareSpecs": false,
    "memoryGiB": 768,
    "name": "ml.p3dn.24xlarge",
    "vcpuNum": 96
   },
   {
    "_defaultOrder": 39,
    "_isFastLaunch": false,
    "category": "Memory Optimized",
    "gpuNum": 0,
    "hideHardwareSpecs": false,
    "memoryGiB": 16,
    "name": "ml.r5.large",
    "vcpuNum": 2
   },
   {
    "_defaultOrder": 40,
    "_isFastLaunch": false,
    "category": "Memory Optimized",
    "gpuNum": 0,
    "hideHardwareSpecs": false,
    "memoryGiB": 32,
    "name": "ml.r5.xlarge",
    "vcpuNum": 4
   },
   {
    "_defaultOrder": 41,
    "_isFastLaunch": false,
    "category": "Memory Optimized",
    "gpuNum": 0,
    "hideHardwareSpecs": false,
    "memoryGiB": 64,
    "name": "ml.r5.2xlarge",
    "vcpuNum": 8
   },
   {
    "_defaultOrder": 42,
    "_isFastLaunch": false,
    "category": "Memory Optimized",
    "gpuNum": 0,
    "hideHardwareSpecs": false,
    "memoryGiB": 128,
    "name": "ml.r5.4xlarge",
    "vcpuNum": 16
   },
   {
    "_defaultOrder": 43,
    "_isFastLaunch": false,
    "category": "Memory Optimized",
    "gpuNum": 0,
    "hideHardwareSpecs": false,
    "memoryGiB": 256,
    "name": "ml.r5.8xlarge",
    "vcpuNum": 32
   },
   {
    "_defaultOrder": 44,
    "_isFastLaunch": false,
    "category": "Memory Optimized",
    "gpuNum": 0,
    "hideHardwareSpecs": false,
    "memoryGiB": 384,
    "name": "ml.r5.12xlarge",
    "vcpuNum": 48
   },
   {
    "_defaultOrder": 45,
    "_isFastLaunch": false,
    "category": "Memory Optimized",
    "gpuNum": 0,
    "hideHardwareSpecs": false,
    "memoryGiB": 512,
    "name": "ml.r5.16xlarge",
    "vcpuNum": 64
   },
   {
    "_defaultOrder": 46,
    "_isFastLaunch": false,
    "category": "Memory Optimized",
    "gpuNum": 0,
    "hideHardwareSpecs": false,
    "memoryGiB": 768,
    "name": "ml.r5.24xlarge",
    "vcpuNum": 96
   },
   {
    "_defaultOrder": 47,
    "_isFastLaunch": false,
    "category": "Accelerated computing",
    "gpuNum": 1,
    "hideHardwareSpecs": false,
    "memoryGiB": 16,
    "name": "ml.g5.xlarge",
    "vcpuNum": 4
   },
   {
    "_defaultOrder": 48,
    "_isFastLaunch": false,
    "category": "Accelerated computing",
    "gpuNum": 1,
    "hideHardwareSpecs": false,
    "memoryGiB": 32,
    "name": "ml.g5.2xlarge",
    "vcpuNum": 8
   },
   {
    "_defaultOrder": 49,
    "_isFastLaunch": false,
    "category": "Accelerated computing",
    "gpuNum": 1,
    "hideHardwareSpecs": false,
    "memoryGiB": 64,
    "name": "ml.g5.4xlarge",
    "vcpuNum": 16
   },
   {
    "_defaultOrder": 50,
    "_isFastLaunch": false,
    "category": "Accelerated computing",
    "gpuNum": 1,
    "hideHardwareSpecs": false,
    "memoryGiB": 128,
    "name": "ml.g5.8xlarge",
    "vcpuNum": 32
   },
   {
    "_defaultOrder": 51,
    "_isFastLaunch": false,
    "category": "Accelerated computing",
    "gpuNum": 1,
    "hideHardwareSpecs": false,
    "memoryGiB": 256,
    "name": "ml.g5.16xlarge",
    "vcpuNum": 64
   },
   {
    "_defaultOrder": 52,
    "_isFastLaunch": false,
    "category": "Accelerated computing",
    "gpuNum": 4,
    "hideHardwareSpecs": false,
    "memoryGiB": 192,
    "name": "ml.g5.12xlarge",
    "vcpuNum": 48
   },
   {
    "_defaultOrder": 53,
    "_isFastLaunch": false,
    "category": "Accelerated computing",
    "gpuNum": 4,
    "hideHardwareSpecs": false,
    "memoryGiB": 384,
    "name": "ml.g5.24xlarge",
    "vcpuNum": 96
   },
   {
    "_defaultOrder": 54,
    "_isFastLaunch": false,
    "category": "Accelerated computing",
    "gpuNum": 8,
    "hideHardwareSpecs": false,
    "memoryGiB": 768,
    "name": "ml.g5.48xlarge",
    "vcpuNum": 192
   },
   {
    "_defaultOrder": 55,
    "_isFastLaunch": false,
    "category": "Accelerated computing",
    "gpuNum": 8,
    "hideHardwareSpecs": false,
    "memoryGiB": 1152,
    "name": "ml.p4d.24xlarge",
    "vcpuNum": 96
   },
   {
    "_defaultOrder": 56,
    "_isFastLaunch": false,
    "category": "Accelerated computing",
    "gpuNum": 8,
    "hideHardwareSpecs": false,
    "memoryGiB": 1152,
    "name": "ml.p4de.24xlarge",
    "vcpuNum": 96
   }
  ],
  "instance_type": "ml.m5.12xlarge",
  "kernelspec": {
   "display_name": "Python 3 (Data Science 3.0)",
   "language": "python",
   "name": "python3__SAGEMAKER_INTERNAL__arn:aws:sagemaker:us-east-1:081325390199:image/sagemaker-data-science-310-v1"
  },
  "language_info": {
   "codemirror_mode": {
    "name": "ipython",
    "version": 3
   },
   "file_extension": ".py",
   "mimetype": "text/x-python",
   "name": "python",
   "nbconvert_exporter": "python",
   "pygments_lexer": "ipython3",
   "version": "3.10.6"
  }
 },
 "nbformat": 4,
 "nbformat_minor": 5
}
