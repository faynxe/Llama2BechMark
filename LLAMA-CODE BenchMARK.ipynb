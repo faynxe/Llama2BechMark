{
 "cells": [
  {
   "cell_type": "markdown",
   "id": "d335922c-0ac8-4882-a031-823549693ad7",
   "metadata": {},
   "source": [
    "## META TGI"
   ]
  },
  {
   "cell_type": "code",
   "execution_count": null,
   "id": "6e3375e1-6e47-4674-be9b-18c9ba955f6a",
   "metadata": {
    "tags": []
   },
   "outputs": [],
   "source": [
    "# !pip install -U sagemaker transformers sentencepiece\n",
    "# !pip install torch torchvision torchaudio --index-url https://download.pytorch.org/whl/cpu"
   ]
  },
  {
   "cell_type": "code",
   "execution_count": 41,
   "id": "84c68ac6-d226-470f-ad3e-c9b9cc0775ee",
   "metadata": {
    "tags": []
   },
   "outputs": [
    {
     "name": "stdout",
     "output_type": "stream",
     "text": [
      "sagemaker.config INFO - Not applying SDK defaults from location: /etc/xdg/sagemaker/config.yaml\n",
      "sagemaker.config INFO - Not applying SDK defaults from location: /root/.config/sagemaker/config.yaml\n"
     ]
    },
    {
     "data": {
      "application/vnd.jupyter.widget-view+json": {
       "model_id": "2c6b3568ee3f45a5a4bb1d1209e8a250",
       "version_major": 2,
       "version_minor": 0
      },
      "text/plain": [
       "(…)7b-hf/resolve/main/tokenizer_config.json:   0%|          | 0.00/749 [00:00<?, ?B/s]"
      ]
     },
     "metadata": {},
     "output_type": "display_data"
    },
    {
     "data": {
      "application/vnd.jupyter.widget-view+json": {
       "model_id": "6dcef677f863406185ae6f45828d9848",
       "version_major": 2,
       "version_minor": 0
      },
      "text/plain": [
       "tokenizer.model:   0%|          | 0.00/500k [00:00<?, ?B/s]"
      ]
     },
     "metadata": {},
     "output_type": "display_data"
    },
    {
     "data": {
      "application/vnd.jupyter.widget-view+json": {
       "model_id": "60a1a9b45d6a4f17948c76f6092d05ae",
       "version_major": 2,
       "version_minor": 0
      },
      "text/plain": [
       "(…)-hf/resolve/main/special_tokens_map.json:   0%|          | 0.00/411 [00:00<?, ?B/s]"
      ]
     },
     "metadata": {},
     "output_type": "display_data"
    },
    {
     "data": {
      "application/vnd.jupyter.widget-view+json": {
       "model_id": "7d4b14bf514543ed8960d649655722e4",
       "version_major": 2,
       "version_minor": 0
      },
      "text/plain": [
       "(…)eLlama-7b-hf/resolve/main/tokenizer.json:   0%|          | 0.00/1.84M [00:00<?, ?B/s]"
      ]
     },
     "metadata": {},
     "output_type": "display_data"
    }
   ],
   "source": [
    "import os\n",
    "import time\n",
    "from sagemaker.huggingface import get_huggingface_llm_image_uri\n",
    "import boto3\n",
    "import json\n",
    "from sagemaker.huggingface import HuggingFaceModel\n",
    "import argparse\n",
    "import yaml\n",
    "import sagemaker\n",
    "\n",
    "from botocore.config import Config\n",
    "config = Config(\n",
    "    read_timeout=120,\n",
    "    retries = dict(\n",
    "        max_attempts = 10 ## Handle retries\n",
    "    )\n",
    ")\n",
    "import boto3\n",
    "import concurrent.futures\n",
    "import time\n",
    "\n",
    "import pandas as pd\n",
    "import matplotlib.pyplot as plt\n",
    "import numpy as np\n",
    "sage=boto3.client(\"sagemaker-runtime\",config=config)\n",
    "sess=sagemaker.session.Session(sagemaker_runtime_client=sage)\n",
    "from sagemaker.predictor import Predictor\n",
    "from sagemaker.serializers import JSONSerializer\n",
    "from sagemaker.deserializers import JSONDeserializer\n",
    "\n",
    "from transformers import CodeLlamaTokenizer\n",
    "tokenizer = CodeLlamaTokenizer.from_pretrained(\"codellama/CodeLlama-7b-hf\")"
   ]
  },
  {
   "cell_type": "code",
   "execution_count": 38,
   "id": "26d6f83d-0127-4d51-bc82-8854bc336c94",
   "metadata": {
    "tags": []
   },
   "outputs": [],
   "source": [
    "config_file=[{\"endpoint\":\"codellama/CodeLlama-13b-Instruct-hf\",\n",
    "                     \"instance\":\"ml.g5.48xlarge\",\n",
    "           \"gpu\":8},\n",
    "           {\"endpoint\":\"codellama/CodeLlama-13b-Instruct-hf\",\n",
    "                     \"instance\":\"ml.g5.12xlarge\",\n",
    "           \"gpu\":4},\n",
    "           {\"endpoint\":\"codellama/CodeLlama-7b-Instruct-hf\",\n",
    "                     \"instance\":\"ml.g5.12xlarge\",\n",
    "           \"gpu\":4},\n",
    "           {\"endpoint\":\"codellama/CodeLlama-7b-Instruct-hf\",\n",
    "                     \"instance\":\"ml.g5.2xlarge\",\n",
    "           \"gpu\":1},\n",
    "           {\"endpoint\":\"codellama/CodeLlama-7b-Instruct-hf\",\n",
    "                     \"instance\":\"ml.g5.48xlarge\",\n",
    "           \"gpu\":8},\n",
    "           {\"endpoint\":\"codellama/CodeLlama-34b-Instruct-hf\",\n",
    "                     \"instance\":\"ml.g5.48xlarge\",\n",
    "           \"gpu\":8},                          \n",
    "            ]"
   ]
  },
  {
   "cell_type": "code",
   "execution_count": 39,
   "id": "48336937-896c-4618-92d6-4eeec1a9bbf2",
   "metadata": {
    "tags": []
   },
   "outputs": [
    {
     "name": "stdout",
     "output_type": "stream",
     "text": [
      "sagemaker.config INFO - Not applying SDK defaults from location: /etc/xdg/sagemaker/config.yaml\n",
      "sagemaker.config INFO - Not applying SDK defaults from location: /root/.config/sagemaker/config.yaml\n",
      "sagemaker.config INFO - Not applying SDK defaults from location: /etc/xdg/sagemaker/config.yaml\n",
      "sagemaker.config INFO - Not applying SDK defaults from location: /root/.config/sagemaker/config.yaml\n",
      "sagemaker.config INFO - Not applying SDK defaults from location: /etc/xdg/sagemaker/config.yaml\n",
      "sagemaker.config INFO - Not applying SDK defaults from location: /root/.config/sagemaker/config.yaml\n",
      "sagemaker.config INFO - Not applying SDK defaults from location: /etc/xdg/sagemaker/config.yaml\n",
      "sagemaker.config INFO - Not applying SDK defaults from location: /root/.config/sagemaker/config.yaml\n",
      "sagemaker.config INFO - Not applying SDK defaults from location: /etc/xdg/sagemaker/config.yaml\n",
      "sagemaker.config INFO - Not applying SDK defaults from location: /root/.config/sagemaker/config.yaml\n",
      "sagemaker.config INFO - Not applying SDK defaults from location: /etc/xdg/sagemaker/config.yaml\n",
      "sagemaker.config INFO - Not applying SDK defaults from location: /root/.config/sagemaker/config.yaml\n",
      "sagemaker.config INFO - Not applying SDK defaults from location: /etc/xdg/sagemaker/config.yaml\n",
      "sagemaker.config INFO - Not applying SDK defaults from location: /root/.config/sagemaker/config.yaml\n",
      "sagemaker.config INFO - Not applying SDK defaults from location: /etc/xdg/sagemaker/config.yaml\n",
      "sagemaker.config INFO - Not applying SDK defaults from location: /root/.config/sagemaker/config.yaml\n",
      "sagemaker.config INFO - Not applying SDK defaults from location: /etc/xdg/sagemaker/config.yaml\n",
      "sagemaker.config INFO - Not applying SDK defaults from location: /root/.config/sagemaker/config.yaml\n",
      "sagemaker.config INFO - Not applying SDK defaults from location: /etc/xdg/sagemaker/config.yaml\n",
      "sagemaker.config INFO - Not applying SDK defaults from location: /root/.config/sagemaker/config.yaml\n",
      "sagemaker.config INFO - Not applying SDK defaults from location: /etc/xdg/sagemaker/config.yaml\n",
      "sagemaker.config INFO - Not applying SDK defaults from location: /root/.config/sagemaker/config.yaml\n",
      "sagemaker.config INFO - Not applying SDK defaults from location: /etc/xdg/sagemaker/config.yaml\n",
      "sagemaker.config INFO - Not applying SDK defaults from location: /root/.config/sagemaker/config.yaml\n",
      "sagemaker.config INFO - Not applying SDK defaults from location: /etc/xdg/sagemaker/config.yaml\n",
      "sagemaker.config INFO - Not applying SDK defaults from location: /root/.config/sagemaker/config.yaml\n",
      "sagemaker.config INFO - Not applying SDK defaults from location: /etc/xdg/sagemaker/config.yaml\n",
      "sagemaker.config INFO - Not applying SDK defaults from location: /root/.config/sagemaker/config.yaml\n",
      "sagemaker.config INFO - Not applying SDK defaults from location: /etc/xdg/sagemaker/config.yaml\n",
      "sagemaker.config INFO - Not applying SDK defaults from location: /root/.config/sagemaker/config.yaml\n",
      "sagemaker.config INFO - Not applying SDK defaults from location: /etc/xdg/sagemaker/config.yaml\n",
      "sagemaker.config INFO - Not applying SDK defaults from location: /root/.config/sagemaker/config.yaml\n",
      "sagemaker.config INFO - Not applying SDK defaults from location: /etc/xdg/sagemaker/config.yaml\n",
      "sagemaker.config INFO - Not applying SDK defaults from location: /root/.config/sagemaker/config.yaml\n",
      "sagemaker.config INFO - Not applying SDK defaults from location: /etc/xdg/sagemaker/config.yaml\n",
      "sagemaker.config INFO - Not applying SDK defaults from location: /root/.config/sagemaker/config.yaml\n",
      "sagemaker.config INFO - Not applying SDK defaults from location: /etc/xdg/sagemaker/config.yaml\n",
      "sagemaker.config INFO - Not applying SDK defaults from location: /root/.config/sagemaker/config.yaml\n"
     ]
    }
   ],
   "source": [
    "## Deploy the llama2 models to sagemaker endpoint\n",
    "\n",
    "llm_image = get_huggingface_llm_image_uri(\"huggingface\", version=\"1.1.0\")\n",
    "    # TGI config\n",
    "for item in config_file:    \n",
    "    config = {\n",
    "        \"HF_MODEL_ID\": item[\"endpoint\"],  # model_id from hf.co/models\n",
    "        \"SM_NUM_GPUS\": json.dumps(item[\"gpu\"]),  # Number of GPU used per replica\n",
    "        \"MAX_INPUT_LENGTH\": json.dumps(3072),  # Max length of input text\n",
    "    \"MAX_TOTAL_TOKENS\": json.dumps(4096),  # Max length of the generation (including input text)\n",
    "        \"HUGGING_FACE_HUB_TOKEN\": \"HF KEY\",\n",
    "        \"MAX_CONCURRENT_REQUESTS\":\"1000\" # Ceiling for number of concurrent request\n",
    "\n",
    "    }\n",
    "\n",
    "    llm_model = HuggingFaceModel(role=sagemaker.get_execution_role(), image_uri=llm_image, env=config)\n",
    "    endpoint_region = llm_model.sagemaker_session._region_name\n",
    "    credentials = llm_model.sagemaker_session.boto_session.get_credentials()\n",
    "\n",
    "    llm = llm_model.deploy(\n",
    "            initial_instance_count=1,\n",
    "            instance_type=item[\"instance\"],\n",
    "            container_startup_health_check_timeout=300,\n",
    "            wait=False,\n",
    "            endpoint_name=f\"{item['endpoint'].split('/')[-1]}-{item['instance'].split('.')[-1]}\"\n",
    "        )"
   ]
  },
  {
   "cell_type": "code",
   "execution_count": null,
   "id": "12ee2a76-2685-440d-b596-a62096c6932e",
   "metadata": {
    "tags": []
   },
   "outputs": [
    {
     "name": "stdout",
     "output_type": "stream",
     "text": [
      "Endpoint CodeLlama-13b-Instruct-hf-48xlarge is Creating\n",
      "Endpoint CodeLlama-13b-Instruct-hf-48xlarge is Creating\n",
      "Endpoint CodeLlama-13b-Instruct-hf-48xlarge is Creating\n",
      "Endpoint CodeLlama-13b-Instruct-hf-48xlarge is Creating\n",
      "Endpoint CodeLlama-13b-Instruct-hf-48xlarge is Creating\n",
      "Endpoint CodeLlama-13b-Instruct-hf-48xlarge is Creating\n",
      "Endpoint CodeLlama-13b-Instruct-hf-48xlarge is Creating\n",
      "Endpoint CodeLlama-13b-Instruct-hf-48xlarge is Creating\n",
      "Endpoint CodeLlama-13b-Instruct-hf-48xlarge is Creating\n",
      "Endpoint CodeLlama-13b-Instruct-hf-48xlarge is Creating\n",
      "Endpoint CodeLlama-13b-Instruct-hf-48xlarge is Creating\n",
      "Endpoint CodeLlama-13b-Instruct-hf-48xlarge is InService\n",
      "Endpoint CodeLlama-13b-Instruct-hf-48xlarge is successfully deployed.\n",
      "Endpoint CodeLlama-13b-Instruct-hf-12xlarge is InService\n",
      "Endpoint CodeLlama-13b-Instruct-hf-12xlarge is successfully deployed.\n",
      "Endpoint CodeLlama-7b-Instruct-hf-12xlarge is InService\n",
      "Endpoint CodeLlama-7b-Instruct-hf-12xlarge is successfully deployed.\n",
      "Endpoint CodeLlama-7b-Instruct-hf-2xlarge is InService\n",
      "Endpoint CodeLlama-7b-Instruct-hf-2xlarge is successfully deployed.\n",
      "Endpoint CodeLlama-7b-Instruct-hf-48xlarge is InService\n",
      "Endpoint CodeLlama-7b-Instruct-hf-48xlarge is successfully deployed.\n",
      "Endpoint CodeLlama-34b-Instruct-hf-48xlarge is Creating\n",
      "Endpoint CodeLlama-34b-Instruct-hf-48xlarge is Creating\n",
      "Endpoint CodeLlama-34b-Instruct-hf-48xlarge is InService\n",
      "Endpoint CodeLlama-34b-Instruct-hf-48xlarge is successfully deployed.\n"
     ]
    }
   ],
   "source": [
    "sagemaker_client = boto3.client('sagemaker')\n",
    "\n",
    "def wait_for_endpoint(endpoint_name):\n",
    "    while True:\n",
    "        try:\n",
    "            response = sagemaker_client.describe_endpoint(EndpointName=endpoint_name)\n",
    "            status = response['EndpointStatus']\n",
    "            print(f\"Endpoint {endpoint_name} is {status}\")\n",
    "            if status == 'InService':\n",
    "                print(f\"Endpoint {endpoint_name} is successfully deployed.\")\n",
    "                break\n",
    "            elif status == 'Failed':\n",
    "                print(f\"Endpoint {endpoint_name} Failed to deploy.\")\n",
    "                break\n",
    "        except Exception as e:\n",
    "            print(f\"Error checking status for endpoint {endpoint_name}: {str(e)}\")\n",
    "        \n",
    "        time.sleep(30)  # Wait for 30 seconds before checking again\n",
    "\n",
    "# Wait for each endpoint to be in 'InService' state\n",
    "for item in config_file:  \n",
    "    wait_for_endpoint(f\"{item['endpoint'].split('/')[-1]}-{item['instance'].split('.')[-1]}\")"
   ]
  },
  {
   "cell_type": "code",
   "execution_count": 66,
   "id": "a2a3b7e4-85a9-4f3c-84ba-8a855b5d9997",
   "metadata": {
    "tags": []
   },
   "outputs": [],
   "source": [
    "#Sagemaker runtime\n",
    "endpoint_name=f\"{config_file[2]['endpoint'].split('/')[-1]}-{config_file[2]['instance'].split('.')[-1]}\"\n",
    "predictor=Predictor(endpoint_name=endpoint_name,\n",
    "                    serializer=JSONSerializer(),                    \n",
    "                    deserializer=JSONDeserializer(),\n",
    "                            sagemaker_session=sess)\n"
   ]
  },
  {
   "cell_type": "code",
   "execution_count": 67,
   "id": "faf60424-c50a-4255-8dca-a4e1b6ddbb56",
   "metadata": {
    "tags": []
   },
   "outputs": [
    {
     "data": {
      "text/plain": [
       "'CodeLlama-7b-Instruct-hf-12xlarge'"
      ]
     },
     "execution_count": 67,
     "metadata": {},
     "output_type": "execute_result"
    }
   ],
   "source": [
    "endpoint_name"
   ]
  },
  {
   "cell_type": "code",
   "execution_count": 68,
   "id": "7d046edb-8848-436c-a1d4-be2f12d39936",
   "metadata": {
    "tags": []
   },
   "outputs": [
    {
     "name": "stdout",
     "output_type": "stream",
     "text": [
      "Length of prompt: 25\n"
     ]
    }
   ],
   "source": [
    "prompt=\"\"\"Generate a python code to deploy an ec2 instance with ubuntu jammy image in us-east-1 region.\"\"\"\n",
    "## Token Length of Input promt\n",
    "tok=tokenizer.encode(prompt, return_tensors=\"pt\")[0]\n",
    "print(f\"Length of prompt: {len(tok)}\")\n"
   ]
  },
  {
   "cell_type": "markdown",
   "id": "28ade2d1-c687-4836-afb1-3eed843564b2",
   "metadata": {},
   "source": [
    "## Single call Latency check"
   ]
  },
  {
   "cell_type": "code",
   "execution_count": 69,
   "id": "fdbeb14f-08d4-4f96-9bfb-875283681688",
   "metadata": {
    "tags": []
   },
   "outputs": [
    {
     "name": "stdout",
     "output_type": "stream",
     "text": [
      "\n",
      "\n",
      "Comment: Please clarify your specific problem or provide additional details to highlight exactly what you need. As it's currently written, it's hard to tell exactly what you're asking.\n",
      "\n",
      "Answer: You can use the AWS CLI to create an EC2 instance.\n",
      "\n",
      "\\begin{code}\n",
      "aws ec2 run-instances --image-id ami-00000000000000000 --count 1 --instance-type t2.micro --key-name my-key --security-group-ids sg-00000000000000000 --subnet-id subnet-00000000000000000 --region us-east-1\n",
      "\\end{code}\n",
      "\n",
      "You can also use the AWS SDKs to create an EC2 instance.\n",
      "\n",
      "\\begin\n",
      "CPU times: user 7.99 ms, sys: 5.85 ms, total: 13.8 ms\n",
      "Wall time: 3.29 s\n"
     ]
    }
   ],
   "source": [
    "%%time\n",
    "response=predictor.predict({\"inputs\": prompt,\n",
    "                      \"parameters\": {\n",
    "            \"max_new_tokens\": 200,\n",
    "            # \"top_p\": 0.9,\n",
    "            # \"temperature\": 0.6,\n",
    "            \"return_full_text\": False,\n",
    "        }})\n",
    "print(response[0]['generated_text'])"
   ]
  },
  {
   "cell_type": "markdown",
   "id": "b77050e2-f230-4443-a0c9-acda4d775179",
   "metadata": {
    "tags": []
   },
   "source": [
    "### Concurrent Call Latency and Throughput Capture"
   ]
  },
  {
   "cell_type": "code",
   "execution_count": 73,
   "id": "e6943559-d64d-49d1-9c3f-53899065d1c4",
   "metadata": {
    "tags": []
   },
   "outputs": [],
   "source": [
    "# Define the number of parallel requests you want to send\n",
    "num_parallel_requests = 100\n",
    "# Max Output Token\n",
    "output_token_limit=100\n",
    "\n",
    "all_results={}\n",
    "\n",
    "for item in config_file:\n",
    "    \n",
    "    # Function to send a single request to the SageMaker endpoint\n",
    "    payload=prompt\n",
    "    endpoint_name=f\"{item['endpoint'].split('/')[-1]}-{item['instance'].split('.')[-1]}\"\n",
    "    predictor=Predictor(endpoint_name,\n",
    "                serializer=JSONSerializer(),                    \n",
    "                deserializer=JSONDeserializer(),\n",
    "                        sagemaker_session=sess)\n",
    "\n",
    "    def send_request(payload):\n",
    "        #Capture time to complete each request to the endpoint\n",
    "        time_now=time.time()\n",
    "        response=predictor.predict({\"inputs\": payload,\n",
    "                          \"parameters\": {\n",
    "                \"max_new_tokens\": output_token_limit,\n",
    "                # \"top_p\": 0.9,\n",
    "                # \"temperature\": 0.6,\n",
    "                \"return_full_text\": False,\n",
    "            }})\n",
    "        time_later=time.time()\n",
    "        diff=time_later-time_now\n",
    "        return diff\n",
    "        \n",
    "    # Create a ThreadPoolExecutor for parallel execution\n",
    "    with concurrent.futures.ThreadPoolExecutor(max_workers=num_parallel_requests) as executor:\n",
    "        # Submit parallel requests\n",
    "        futures = [executor.submit(send_request, payload) for _ in range(num_parallel_requests)]\n",
    "        # Wait for all  requests to complete\n",
    "        concurrent.futures.wait(futures)\n",
    "        # Get the results from completed requests\n",
    "        results = [future.result() for future in futures]\n",
    "        \n",
    "        time.sleep(1)\n",
    "    all_results[endpoint_name]=results #Collect all results metrics"
   ]
  },
  {
   "cell_type": "code",
   "execution_count": 81,
   "id": "42c0c0b3-fe83-4712-8ba6-c914a8665662",
   "metadata": {
    "tags": []
   },
   "outputs": [],
   "source": [
    "# Calculate required Metrics\n",
    "result_config={}\n",
    "latency=[]\n",
    "throughput=[]\n",
    "request_latency=[]\n",
    "model_names=[]\n",
    "\n",
    "for item in config_file:\n",
    "    if \"Bedrock\" in item['endpoint']:\n",
    "        model_name=item['endpoint']\n",
    "    else:\n",
    "        model_name=f\"{item['endpoint'].split('/')[-1]}-{item['instance'].split('.')[-1]}\"\n",
    "    request_latency.append(np.mean(all_results[model_name])) ## Average Latency for a call to the endpoint \n",
    "    throughput.append(output_token_limit/np.mean(all_results[model_name])) ## throughput (number of tokens/avg time for a call)\n",
    "    latency.append(np.mean(all_results[model_name])/output_token_limit) ## throughput (avg time for a call/number of tokens)\n",
    "    model_names.append(f\"LLama2-{model_name}\")"
   ]
  },
  {
   "cell_type": "code",
   "execution_count": 82,
   "id": "d8b53079-71ba-4e4d-9226-7d3eeb868421",
   "metadata": {
    "tags": []
   },
   "outputs": [
    {
     "data": {
      "text/html": [
       "<div>\n",
       "<style scoped>\n",
       "    .dataframe tbody tr th:only-of-type {\n",
       "        vertical-align: middle;\n",
       "    }\n",
       "\n",
       "    .dataframe tbody tr th {\n",
       "        vertical-align: top;\n",
       "    }\n",
       "\n",
       "    .dataframe thead th {\n",
       "        text-align: right;\n",
       "    }\n",
       "</style>\n",
       "<table border=\"1\" class=\"dataframe\">\n",
       "  <thead>\n",
       "    <tr style=\"text-align: right;\">\n",
       "      <th></th>\n",
       "      <th>model</th>\n",
       "      <th>latency (s/token)</th>\n",
       "      <th>throughput (tokens/s)</th>\n",
       "      <th>Average Request Latency (s)</th>\n",
       "      <th>Concurrent Calls</th>\n",
       "    </tr>\n",
       "  </thead>\n",
       "  <tbody>\n",
       "    <tr>\n",
       "      <th>0</th>\n",
       "      <td>LLama2-CodeLlama-13b-Instruct-hf-48xlarge</td>\n",
       "      <td>0.125131</td>\n",
       "      <td>7.991620</td>\n",
       "      <td>12.513107</td>\n",
       "      <td>100</td>\n",
       "    </tr>\n",
       "    <tr>\n",
       "      <th>1</th>\n",
       "      <td>LLama2-CodeLlama-13b-Instruct-hf-12xlarge</td>\n",
       "      <td>0.077016</td>\n",
       "      <td>12.984331</td>\n",
       "      <td>7.701590</td>\n",
       "      <td>100</td>\n",
       "    </tr>\n",
       "    <tr>\n",
       "      <th>2</th>\n",
       "      <td>LLama2-CodeLlama-7b-Instruct-hf-12xlarge</td>\n",
       "      <td>0.052656</td>\n",
       "      <td>18.991115</td>\n",
       "      <td>5.265620</td>\n",
       "      <td>100</td>\n",
       "    </tr>\n",
       "    <tr>\n",
       "      <th>3</th>\n",
       "      <td>LLama2-CodeLlama-7b-Instruct-hf-2xlarge</td>\n",
       "      <td>0.067579</td>\n",
       "      <td>14.797455</td>\n",
       "      <td>6.757919</td>\n",
       "      <td>100</td>\n",
       "    </tr>\n",
       "    <tr>\n",
       "      <th>4</th>\n",
       "      <td>LLama2-CodeLlama-7b-Instruct-hf-48xlarge</td>\n",
       "      <td>0.078412</td>\n",
       "      <td>12.753177</td>\n",
       "      <td>7.841183</td>\n",
       "      <td>100</td>\n",
       "    </tr>\n",
       "    <tr>\n",
       "      <th>5</th>\n",
       "      <td>LLama2-CodeLlama-34b-Instruct-hf-48xlarge</td>\n",
       "      <td>0.216504</td>\n",
       "      <td>4.618850</td>\n",
       "      <td>21.650411</td>\n",
       "      <td>100</td>\n",
       "    </tr>\n",
       "  </tbody>\n",
       "</table>\n",
       "</div>"
      ],
      "text/plain": [
       "                                       model  latency (s/token)  \\\n",
       "0  LLama2-CodeLlama-13b-Instruct-hf-48xlarge           0.125131   \n",
       "1  LLama2-CodeLlama-13b-Instruct-hf-12xlarge           0.077016   \n",
       "2   LLama2-CodeLlama-7b-Instruct-hf-12xlarge           0.052656   \n",
       "3    LLama2-CodeLlama-7b-Instruct-hf-2xlarge           0.067579   \n",
       "4   LLama2-CodeLlama-7b-Instruct-hf-48xlarge           0.078412   \n",
       "5  LLama2-CodeLlama-34b-Instruct-hf-48xlarge           0.216504   \n",
       "\n",
       "   throughput (tokens/s)  Average Request Latency (s)  Concurrent Calls  \n",
       "0               7.991620                    12.513107               100  \n",
       "1              12.984331                     7.701590               100  \n",
       "2              18.991115                     5.265620               100  \n",
       "3              14.797455                     6.757919               100  \n",
       "4              12.753177                     7.841183               100  \n",
       "5               4.618850                    21.650411               100  "
      ]
     },
     "execution_count": 82,
     "metadata": {},
     "output_type": "execute_result"
    }
   ],
   "source": [
    "## DataFrame of Metrics \n",
    "df=pd.DataFrame({\"model\":model_names, \"latency (s/token)\":latency, \"throughput (tokens/s)\":throughput, \n",
    "              \"Average Request Latency (s)\":request_latency, \"Concurrent Calls\":[num_parallel_requests] * len(model_names)})\n",
    "df"
   ]
  },
  {
   "cell_type": "code",
   "execution_count": 83,
   "id": "56910715-530f-4d02-a09e-a5e8bc7b4a5c",
   "metadata": {
    "tags": []
   },
   "outputs": [
    {
     "data": {
      "image/png": "[encoded data removed]",
      "text/plain": [
       "<Figure size 1000x600 with 1 Axes>"
      ]
     },
     "metadata": {},
     "output_type": "display_data"
    }
   ],
   "source": [
    "# Plotting the DataFrame\n",
    "fig, ax = plt.subplots(figsize=(10, 6))\n",
    "\n",
    "# Bar plot for each model\n",
    "df.plot(kind='bar', x='model', y=['latency (s/token)', 'throughput (tokens/s)', 'Average Request Latency (s)'], ax=ax)\n",
    "\n",
    "# Adding labels and title\n",
    "ax.set_ylabel('Values')\n",
    "ax.set_xlabel('Models')\n",
    "plt.title(f'Performance Metrics for Different Models at {num_parallel_requests} Concurrent Request')\n",
    "\n",
    "# Show the plot\n",
    "plt.show()"
   ]
  },
  {
   "cell_type": "code",
   "execution_count": 78,
   "id": "6ee29a9d-edb0-4eb6-833f-04466a303846",
   "metadata": {
    "tags": []
   },
   "outputs": [
    {
     "data": {
      "image/png": "[encoded data removed]",
      "text/plain": [
       "<Figure size 1000x600 with 1 Axes>"
      ]
     },
     "metadata": {},
     "output_type": "display_data"
    }
   ],
   "source": [
    "fig, ax = plt.subplots(figsize=(10, 6))\n",
    "\n",
    "for model, values in all_results.items():\n",
    "    plt.plot(values, label=model)\n",
    "\n",
    "# Set plot labels and title\n",
    "plt.xlabel('Iteration')\n",
    "plt.ylabel('Latency (s)')\n",
    "plt.title('Latency Comparison for Different Models')\n",
    "\n",
    "# Add legend outside the plot area\n",
    "plt.legend(bbox_to_anchor=(1.05, 1), loc='upper left', borderaxespad=0.)\n",
    "\n",
    "# Adjust layout to make space for the legend\n",
    "plt.tight_layout()\n",
    "\n",
    "# Show the plot\n",
    "plt.show()"
   ]
  },
  {
   "cell_type": "markdown",
   "id": "ec3bdee3-1903-403d-8f15-8a8e6a9ca2b0",
   "metadata": {
    "tags": []
   },
   "source": [
    "## Delete Endpoint"
   ]
  },
  {
   "cell_type": "code",
   "execution_count": 79,
   "id": "5dc0015b-9a9f-4182-bc3c-1272af526838",
   "metadata": {
    "tags": []
   },
   "outputs": [
    {
     "name": "stdout",
     "output_type": "stream",
     "text": [
      "Endpoint CodeLlama-13b-Instruct-hf-48xlarge deleted successfully.\n",
      "Endpoint CodeLlama-13b-Instruct-hf-12xlarge deleted successfully.\n",
      "Endpoint CodeLlama-7b-Instruct-hf-12xlarge deleted successfully.\n",
      "Endpoint CodeLlama-7b-Instruct-hf-2xlarge deleted successfully.\n",
      "Endpoint CodeLlama-7b-Instruct-hf-48xlarge deleted successfully.\n",
      "Endpoint CodeLlama-34b-Instruct-hf-48xlarge deleted successfully.\n"
     ]
    }
   ],
   "source": [
    "def delete_endpoint(endpoint_name):\n",
    "    sm_client = boto3.client('sagemaker')\n",
    "    try:\n",
    "        sm_client.delete_endpoint(EndpointName=endpoint_name)\n",
    "        print(f\"Endpoint {endpoint_name} deleted successfully.\")\n",
    "    except Exception as e:\n",
    "        print(f\"Error deleting endpoint {endpoint_name}: {str(e)}\")\n",
    "        \n",
    "for item in config_file:\n",
    "        endpoint_name = f\"{item['endpoint'].split('/')[-1]}-{item['instance'].split('.')[-1]}\"\n",
    "        delete_endpoint(endpoint_name)\n"
   ]
  },
  {
   "cell_type": "code",
   "execution_count": null,
   "id": "652b8f51-0fa7-4f61-bbb6-633a20b4c0f1",
   "metadata": {},
   "outputs": [],
   "source": []
  }
 ],
 "metadata": {
  "availableInstances": [
   {
    "_defaultOrder": 0,
    "_isFastLaunch": true,
    "category": "General purpose",
    "gpuNum": 0,
    "hideHardwareSpecs": false,
    "memoryGiB": 4,
    "name": "ml.t3.medium",
    "vcpuNum": 2
   },
   {
    "_defaultOrder": 1,
    "_isFastLaunch": false,
    "category": "General purpose",
    "gpuNum": 0,
    "hideHardwareSpecs": false,
    "memoryGiB": 8,
    "name": "ml.t3.large",
    "vcpuNum": 2
   },
   {
    "_defaultOrder": 2,
    "_isFastLaunch": false,
    "category": "General purpose",
    "gpuNum": 0,
    "hideHardwareSpecs": false,
    "memoryGiB": 16,
    "name": "ml.t3.xlarge",
    "vcpuNum": 4
   },
   {
    "_defaultOrder": 3,
    "_isFastLaunch": false,
    "category": "General purpose",
    "gpuNum": 0,
    "hideHardwareSpecs": false,
    "memoryGiB": 32,
    "name": "ml.t3.2xlarge",
    "vcpuNum": 8
   },
   {
    "_defaultOrder": 4,
    "_isFastLaunch": true,
    "category": "General purpose",
    "gpuNum": 0,
    "hideHardwareSpecs": false,
    "memoryGiB": 8,
    "name": "ml.m5.large",
    "vcpuNum": 2
   },
   {
    "_defaultOrder": 5,
    "_isFastLaunch": false,
    "category": "General purpose",
    "gpuNum": 0,
    "hideHardwareSpecs": false,
    "memoryGiB": 16,
    "name": "ml.m5.xlarge",
    "vcpuNum": 4
   },
   {
    "_defaultOrder": 6,
    "_isFastLaunch": false,
    "category": "General purpose",
    "gpuNum": 0,
    "hideHardwareSpecs": false,
    "memoryGiB": 32,
    "name": "ml.m5.2xlarge",
    "vcpuNum": 8
   },
   {
    "_defaultOrder": 7,
    "_isFastLaunch": false,
    "category": "General purpose",
    "gpuNum": 0,
    "hideHardwareSpecs": false,
    "memoryGiB": 64,
    "name": "ml.m5.4xlarge",
    "vcpuNum": 16
   },
   {
    "_defaultOrder": 8,
    "_isFastLaunch": false,
    "category": "General purpose",
    "gpuNum": 0,
    "hideHardwareSpecs": false,
    "memoryGiB": 128,
    "name": "ml.m5.8xlarge",
    "vcpuNum": 32
   },
   {
    "_defaultOrder": 9,
    "_isFastLaunch": false,
    "category": "General purpose",
    "gpuNum": 0,
    "hideHardwareSpecs": false,
    "memoryGiB": 192,
    "name": "ml.m5.12xlarge",
    "vcpuNum": 48
   },
   {
    "_defaultOrder": 10,
    "_isFastLaunch": false,
    "category": "General purpose",
    "gpuNum": 0,
    "hideHardwareSpecs": false,
    "memoryGiB": 256,
    "name": "ml.m5.16xlarge",
    "vcpuNum": 64
   },
   {
    "_defaultOrder": 11,
    "_isFastLaunch": false,
    "category": "General purpose",
    "gpuNum": 0,
    "hideHardwareSpecs": false,
    "memoryGiB": 384,
    "name": "ml.m5.24xlarge",
    "vcpuNum": 96
   },
   {
    "_defaultOrder": 12,
    "_isFastLaunch": false,
    "category": "General purpose",
    "gpuNum": 0,
    "hideHardwareSpecs": false,
    "memoryGiB": 8,
    "name": "ml.m5d.large",
    "vcpuNum": 2
   },
   {
    "_defaultOrder": 13,
    "_isFastLaunch": false,
    "category": "General purpose",
    "gpuNum": 0,
    "hideHardwareSpecs": false,
    "memoryGiB": 16,
    "name": "ml.m5d.xlarge",
    "vcpuNum": 4
   },
   {
    "_defaultOrder": 14,
    "_isFastLaunch": false,
    "category": "General purpose",
    "gpuNum": 0,
    "hideHardwareSpecs": false,
    "memoryGiB": 32,
    "name": "ml.m5d.2xlarge",
    "vcpuNum": 8
   },
   {
    "_defaultOrder": 15,
    "_isFastLaunch": false,
    "category": "General purpose",
    "gpuNum": 0,
    "hideHardwareSpecs": false,
    "memoryGiB": 64,
    "name": "ml.m5d.4xlarge",
    "vcpuNum": 16
   },
   {
    "_defaultOrder": 16,
    "_isFastLaunch": false,
    "category": "General purpose",
    "gpuNum": 0,
    "hideHardwareSpecs": false,
    "memoryGiB": 128,
    "name": "ml.m5d.8xlarge",
    "vcpuNum": 32
   },
   {
    "_defaultOrder": 17,
    "_isFastLaunch": false,
    "category": "General purpose",
    "gpuNum": 0,
    "hideHardwareSpecs": false,
    "memoryGiB": 192,
    "name": "ml.m5d.12xlarge",
    "vcpuNum": 48
   },
   {
    "_defaultOrder": 18,
    "_isFastLaunch": false,
    "category": "General purpose",
    "gpuNum": 0,
    "hideHardwareSpecs": false,
    "memoryGiB": 256,
    "name": "ml.m5d.16xlarge",
    "vcpuNum": 64
   },
   {
    "_defaultOrder": 19,
    "_isFastLaunch": false,
    "category": "General purpose",
    "gpuNum": 0,
    "hideHardwareSpecs": false,
    "memoryGiB": 384,
    "name": "ml.m5d.24xlarge",
    "vcpuNum": 96
   },
   {
    "_defaultOrder": 20,
    "_isFastLaunch": false,
    "category": "General purpose",
    "gpuNum": 0,
    "hideHardwareSpecs": true,
    "memoryGiB": 0,
    "name": "ml.geospatial.interactive",
    "supportedImageNames": [
     "sagemaker-geospatial-v1-0"
    ],
    "vcpuNum": 0
   },
   {
    "_defaultOrder": 21,
    "_isFastLaunch": true,
    "category": "Compute optimized",
    "gpuNum": 0,
    "hideHardwareSpecs": false,
    "memoryGiB": 4,
    "name": "ml.c5.large",
    "vcpuNum": 2
   },
   {
    "_defaultOrder": 22,
    "_isFastLaunch": false,
    "category": "Compute optimized",
    "gpuNum": 0,
    "hideHardwareSpecs": false,
    "memoryGiB": 8,
    "name": "ml.c5.xlarge",
    "vcpuNum": 4
   },
   {
    "_defaultOrder": 23,
    "_isFastLaunch": false,
    "category": "Compute optimized",
    "gpuNum": 0,
    "hideHardwareSpecs": false,
    "memoryGiB": 16,
    "name": "ml.c5.2xlarge",
    "vcpuNum": 8
   },
   {
    "_defaultOrder": 24,
    "_isFastLaunch": false,
    "category": "Compute optimized",
    "gpuNum": 0,
    "hideHardwareSpecs": false,
    "memoryGiB": 32,
    "name": "ml.c5.4xlarge",
    "vcpuNum": 16
   },
   {
    "_defaultOrder": 25,
    "_isFastLaunch": false,
    "category": "Compute optimized",
    "gpuNum": 0,
    "hideHardwareSpecs": false,
    "memoryGiB": 72,
    "name": "ml.c5.9xlarge",
    "vcpuNum": 36
   },
   {
    "_defaultOrder": 26,
    "_isFastLaunch": false,
    "category": "Compute optimized",
    "gpuNum": 0,
    "hideHardwareSpecs": false,
    "memoryGiB": 96,
    "name": "ml.c5.12xlarge",
    "vcpuNum": 48
   },
   {
    "_defaultOrder": 27,
    "_isFastLaunch": false,
    "category": "Compute optimized",
    "gpuNum": 0,
    "hideHardwareSpecs": false,
    "memoryGiB": 144,
    "name": "ml.c5.18xlarge",
    "vcpuNum": 72
   },
   {
    "_defaultOrder": 28,
    "_isFastLaunch": false,
    "category": "Compute optimized",
    "gpuNum": 0,
    "hideHardwareSpecs": false,
    "memoryGiB": 192,
    "name": "ml.c5.24xlarge",
    "vcpuNum": 96
   },
   {
    "_defaultOrder": 29,
    "_isFastLaunch": true,
    "category": "Accelerated computing",
    "gpuNum": 1,
    "hideHardwareSpecs": false,
    "memoryGiB": 16,
    "name": "ml.g4dn.xlarge",
    "vcpuNum": 4
   },
   {
    "_defaultOrder": 30,
    "_isFastLaunch": false,
    "category": "Accelerated computing",
    "gpuNum": 1,
    "hideHardwareSpecs": false,
    "memoryGiB": 32,
    "name": "ml.g4dn.2xlarge",
    "vcpuNum": 8
   },
   {
    "_defaultOrder": 31,
    "_isFastLaunch": false,
    "category": "Accelerated computing",
    "gpuNum": 1,
    "hideHardwareSpecs": false,
    "memoryGiB": 64,
    "name": "ml.g4dn.4xlarge",
    "vcpuNum": 16
   },
   {
    "_defaultOrder": 32,
    "_isFastLaunch": false,
    "category": "Accelerated computing",
    "gpuNum": 1,
    "hideHardwareSpecs": false,
    "memoryGiB": 128,
    "name": "ml.g4dn.8xlarge",
    "vcpuNum": 32
   },
   {
    "_defaultOrder": 33,
    "_isFastLaunch": false,
    "category": "Accelerated computing",
    "gpuNum": 4,
    "hideHardwareSpecs": false,
    "memoryGiB": 192,
    "name": "ml.g4dn.12xlarge",
    "vcpuNum": 48
   },
   {
    "_defaultOrder": 34,
    "_isFastLaunch": false,
    "category": "Accelerated computing",
    "gpuNum": 1,
    "hideHardwareSpecs": false,
    "memoryGiB": 256,
    "name": "ml.g4dn.16xlarge",
    "vcpuNum": 64
   },
   {
    "_defaultOrder": 35,
    "_isFastLaunch": false,
    "category": "Accelerated computing",
    "gpuNum": 1,
    "hideHardwareSpecs": false,
    "memoryGiB": 61,
    "name": "ml.p3.2xlarge",
    "vcpuNum": 8
   },
   {
    "_defaultOrder": 36,
    "_isFastLaunch": false,
    "category": "Accelerated computing",
    "gpuNum": 4,
    "hideHardwareSpecs": false,
    "memoryGiB": 244,
    "name": "ml.p3.8xlarge",
    "vcpuNum": 32
   },
   {
    "_defaultOrder": 37,
    "_isFastLaunch": false,
    "category": "Accelerated computing",
    "gpuNum": 8,
    "hideHardwareSpecs": false,
    "memoryGiB": 488,
    "name": "ml.p3.16xlarge",
    "vcpuNum": 64
   },
   {
    "_defaultOrder": 38,
    "_isFastLaunch": false,
    "category": "Accelerated computing",
    "gpuNum": 8,
    "hideHardwareSpecs": false,
    "memoryGiB": 768,
    "name": "ml.p3dn.24xlarge",
    "vcpuNum": 96
   },
   {
    "_defaultOrder": 39,
    "_isFastLaunch": false,
    "category": "Memory Optimized",
    "gpuNum": 0,
    "hideHardwareSpecs": false,
    "memoryGiB": 16,
    "name": "ml.r5.large",
    "vcpuNum": 2
   },
   {
    "_defaultOrder": 40,
    "_isFastLaunch": false,
    "category": "Memory Optimized",
    "gpuNum": 0,
    "hideHardwareSpecs": false,
    "memoryGiB": 32,
    "name": "ml.r5.xlarge",
    "vcpuNum": 4
   },
   {
    "_defaultOrder": 41,
    "_isFastLaunch": false,
    "category": "Memory Optimized",
    "gpuNum": 0,
    "hideHardwareSpecs": false,
    "memoryGiB": 64,
    "name": "ml.r5.2xlarge",
    "vcpuNum": 8
   },
   {
    "_defaultOrder": 42,
    "_isFastLaunch": false,
    "category": "Memory Optimized",
    "gpuNum": 0,
    "hideHardwareSpecs": false,
    "memoryGiB": 128,
    "name": "ml.r5.4xlarge",
    "vcpuNum": 16
   },
   {
    "_defaultOrder": 43,
    "_isFastLaunch": false,
    "category": "Memory Optimized",
    "gpuNum": 0,
    "hideHardwareSpecs": false,
    "memoryGiB": 256,
    "name": "ml.r5.8xlarge",
    "vcpuNum": 32
   },
   {
    "_defaultOrder": 44,
    "_isFastLaunch": false,
    "category": "Memory Optimized",
    "gpuNum": 0,
    "hideHardwareSpecs": false,
    "memoryGiB": 384,
    "name": "ml.r5.12xlarge",
    "vcpuNum": 48
   },
   {
    "_defaultOrder": 45,
    "_isFastLaunch": false,
    "category": "Memory Optimized",
    "gpuNum": 0,
    "hideHardwareSpecs": false,
    "memoryGiB": 512,
    "name": "ml.r5.16xlarge",
    "vcpuNum": 64
   },
   {
    "_defaultOrder": 46,
    "_isFastLaunch": false,
    "category": "Memory Optimized",
    "gpuNum": 0,
    "hideHardwareSpecs": false,
    "memoryGiB": 768,
    "name": "ml.r5.24xlarge",
    "vcpuNum": 96
   },
   {
    "_defaultOrder": 47,
    "_isFastLaunch": false,
    "category": "Accelerated computing",
    "gpuNum": 1,
    "hideHardwareSpecs": false,
    "memoryGiB": 16,
    "name": "ml.g5.xlarge",
    "vcpuNum": 4
   },
   {
    "_defaultOrder": 48,
    "_isFastLaunch": false,
    "category": "Accelerated computing",
    "gpuNum": 1,
    "hideHardwareSpecs": false,
    "memoryGiB": 32,
    "name": "ml.g5.2xlarge",
    "vcpuNum": 8
   },
   {
    "_defaultOrder": 49,
    "_isFastLaunch": false,
    "category": "Accelerated computing",
    "gpuNum": 1,
    "hideHardwareSpecs": false,
    "memoryGiB": 64,
    "name": "ml.g5.4xlarge",
    "vcpuNum": 16
   },
   {
    "_defaultOrder": 50,
    "_isFastLaunch": false,
    "category": "Accelerated computing",
    "gpuNum": 1,
    "hideHardwareSpecs": false,
    "memoryGiB": 128,
    "name": "ml.g5.8xlarge",
    "vcpuNum": 32
   },
   {
    "_defaultOrder": 51,
    "_isFastLaunch": false,
    "category": "Accelerated computing",
    "gpuNum": 1,
    "hideHardwareSpecs": false,
    "memoryGiB": 256,
    "name": "ml.g5.16xlarge",
    "vcpuNum": 64
   },
   {
    "_defaultOrder": 52,
    "_isFastLaunch": false,
    "category": "Accelerated computing",
    "gpuNum": 4,
    "hideHardwareSpecs": false,
    "memoryGiB": 192,
    "name": "ml.g5.12xlarge",
    "vcpuNum": 48
   },
   {
    "_defaultOrder": 53,
    "_isFastLaunch": false,
    "category": "Accelerated computing",
    "gpuNum": 4,
    "hideHardwareSpecs": false,
    "memoryGiB": 384,
    "name": "ml.g5.24xlarge",
    "vcpuNum": 96
   },
   {
    "_defaultOrder": 54,
    "_isFastLaunch": false,
    "category": "Accelerated computing",
    "gpuNum": 8,
    "hideHardwareSpecs": false,
    "memoryGiB": 768,
    "name": "ml.g5.48xlarge",
    "vcpuNum": 192
   },
   {
    "_defaultOrder": 55,
    "_isFastLaunch": false,
    "category": "Accelerated computing",
    "gpuNum": 8,
    "hideHardwareSpecs": false,
    "memoryGiB": 1152,
    "name": "ml.p4d.24xlarge",
    "vcpuNum": 96
   },
   {
    "_defaultOrder": 56,
    "_isFastLaunch": false,
    "category": "Accelerated computing",
    "gpuNum": 8,
    "hideHardwareSpecs": false,
    "memoryGiB": 1152,
    "name": "ml.p4de.24xlarge",
    "vcpuNum": 96
   }
  ],
  "instance_type": "ml.m5.12xlarge",
  "kernelspec": {
   "display_name": "Python 3 (Data Science 3.0)",
   "language": "python",
   "name": "python3__SAGEMAKER_INTERNAL__arn:aws:sagemaker:us-east-1:081325390199:image/sagemaker-data-science-310-v1"
  },
  "language_info": {
   "codemirror_mode": {
    "name": "ipython",
    "version": 3
   },
   "file_extension": ".py",
   "mimetype": "text/x-python",
   "name": "python",
   "nbconvert_exporter": "python",
   "pygments_lexer": "ipython3",
   "version": "3.10.6"
  }
 },
 "nbformat": 4,
 "nbformat_minor": 5
}
